{
 "cells": [
  {
   "cell_type": "code",
   "execution_count": 1,
   "metadata": {},
   "outputs": [],
   "source": [
    "import os\n",
    "import numpy as np\n",
    "import pandas as pd\n",
    "import math\n",
    "import seaborn as sns\n",
    "import calendar\n",
    "\n",
    "%matplotlib inline\n",
    "import matplotlib.pyplot as plt\n",
    "import plotly.plotly as py\n",
    "import plotly.graph_objs as go\n",
    "from bkcharts import TimeSeries, show"
   ]
  },
  {
   "cell_type": "code",
   "execution_count": 2,
   "metadata": {
    "collapsed": true
   },
   "outputs": [],
   "source": [
    "train_df = pd.read_csv('train_1.csv')\n",
    "key_df = pd.read_csv('key_1.csv')"
   ]
  },
  {
   "cell_type": "code",
   "execution_count": 3,
   "metadata": {},
   "outputs": [
    {
     "name": "stdout",
     "output_type": "stream",
     "text": [
      "Train           (145063, 551)\n",
      "Key             (8703780, 2)\n"
     ]
    }
   ],
   "source": [
    "print(\"Train\".ljust(15), train_df.shape)\n",
    "print(\"Key\".ljust(15), key_df.shape)"
   ]
  },
  {
   "cell_type": "code",
   "execution_count": 4,
   "metadata": {},
   "outputs": [
    {
     "name": "stdout",
     "output_type": "stream",
     "text": [
      "                                                Page  2015-07-01  2015-07-02  \\\n",
      "0            2NE1_zh.wikipedia.org_all-access_spider        18.0        11.0   \n",
      "1             2PM_zh.wikipedia.org_all-access_spider        11.0        14.0   \n",
      "2              3C_zh.wikipedia.org_all-access_spider         1.0         0.0   \n",
      "3         4minute_zh.wikipedia.org_all-access_spider        35.0        13.0   \n",
      "4  Resident_Evil:_Capítulo_Final_es.wikipedia.org...         NaN         NaN   \n",
      "5  Enamorándome_de_Ramón_es.wikipedia.org_all-acc...         NaN         NaN   \n",
      "6  Hasta_el_último_hombre_es.wikipedia.org_all-ac...         NaN         NaN   \n",
      "7  Francisco_el_matemático_(serie_de_televisión_d...         NaN         NaN   \n",
      "\n",
      "   2015-07-03  2015-07-04  2015-07-05  2015-07-06  2015-07-07  2015-07-08  \\\n",
      "0         5.0        13.0        14.0         9.0         9.0        22.0   \n",
      "1        15.0        18.0        11.0        13.0        22.0        11.0   \n",
      "2         1.0         1.0         0.0         4.0         0.0         3.0   \n",
      "3        10.0        94.0         4.0        26.0        14.0         9.0   \n",
      "4         NaN         NaN         NaN         NaN         NaN         NaN   \n",
      "5         NaN         NaN         NaN         NaN         NaN         NaN   \n",
      "6         NaN         NaN         NaN         NaN         NaN         NaN   \n",
      "7         NaN         NaN         NaN         NaN         NaN         NaN   \n",
      "\n",
      "   2015-07-09     ...      2016-12-22  2016-12-23  2016-12-24  2016-12-25  \\\n",
      "0        26.0     ...            32.0        63.0        15.0        26.0   \n",
      "1        10.0     ...            17.0        42.0        28.0        15.0   \n",
      "2         4.0     ...             3.0         1.0         1.0         7.0   \n",
      "3        11.0     ...            32.0        10.0        26.0        27.0   \n",
      "4         NaN     ...             NaN         NaN         NaN         NaN   \n",
      "5         NaN     ...             NaN         NaN         NaN         NaN   \n",
      "6         NaN     ...             NaN         NaN         NaN         NaN   \n",
      "7         NaN     ...             NaN         NaN         NaN         NaN   \n",
      "\n",
      "   2016-12-26  2016-12-27  2016-12-28  2016-12-29  2016-12-30  2016-12-31  \n",
      "0        14.0        20.0        22.0        19.0        18.0        20.0  \n",
      "1         9.0        30.0        52.0        45.0        26.0        20.0  \n",
      "2         4.0         4.0         6.0         3.0         4.0        17.0  \n",
      "3        16.0        11.0        17.0        19.0        10.0        11.0  \n",
      "4         NaN         NaN         NaN         NaN         NaN         NaN  \n",
      "5         NaN         NaN         NaN         NaN         NaN         NaN  \n",
      "6         NaN         NaN         NaN         NaN         NaN         NaN  \n",
      "7         NaN         NaN         NaN         NaN         NaN         NaN  \n",
      "\n",
      "[8 rows x 551 columns]\n"
     ]
    }
   ],
   "source": [
    "print(train_df[:4].append(train_df[-4:], ignore_index=True))"
   ]
  },
  {
   "cell_type": "code",
   "execution_count": 5,
   "metadata": {},
   "outputs": [
    {
     "name": "stdout",
     "output_type": "stream",
     "text": [
      "                                                Page            Id\n",
      "0  !vote_en.wikipedia.org_all-access_all-agents_2...  bf4edcf969af\n",
      "1  !vote_en.wikipedia.org_all-access_all-agents_2...  929ed2bf52b9\n",
      "2  !vote_en.wikipedia.org_all-access_all-agents_2...  ff29d0f51d5c\n",
      "3  !vote_en.wikipedia.org_all-access_all-agents_2...  e98873359be6\n",
      "4  龙生九子_zh.wikipedia.org_mobile-web_all-agents_20...  2489963dc503\n",
      "5  龙生九子_zh.wikipedia.org_mobile-web_all-agents_20...  b0624c909f4c\n",
      "6  龙生九子_zh.wikipedia.org_mobile-web_all-agents_20...  24a1dfb06c10\n",
      "7  龙生九子_zh.wikipedia.org_mobile-web_all-agents_20...  add681d54216\n"
     ]
    }
   ],
   "source": [
    "print(key_df[:4].append(key_df[-4:], ignore_index=True))"
   ]
  },
  {
   "cell_type": "code",
   "execution_count": 6,
   "metadata": {},
   "outputs": [
    {
     "data": {
      "text/html": [
       "<div>\n",
       "<style>\n",
       "    .dataframe thead tr:only-child th {\n",
       "        text-align: right;\n",
       "    }\n",
       "\n",
       "    .dataframe thead th {\n",
       "        text-align: left;\n",
       "    }\n",
       "\n",
       "    .dataframe tbody tr th {\n",
       "        vertical-align: top;\n",
       "    }\n",
       "</style>\n",
       "<table border=\"1\" class=\"dataframe\">\n",
       "  <thead>\n",
       "    <tr style=\"text-align: right;\">\n",
       "      <th></th>\n",
       "      <th>project</th>\n",
       "      <th>access</th>\n",
       "      <th>agent</th>\n",
       "    </tr>\n",
       "  </thead>\n",
       "  <tbody>\n",
       "    <tr>\n",
       "      <th>count</th>\n",
       "      <td>145063</td>\n",
       "      <td>145063</td>\n",
       "      <td>145063</td>\n",
       "    </tr>\n",
       "    <tr>\n",
       "      <th>unique</th>\n",
       "      <td>9</td>\n",
       "      <td>3</td>\n",
       "      <td>2</td>\n",
       "    </tr>\n",
       "    <tr>\n",
       "      <th>top</th>\n",
       "      <td>en.wikipedia.org</td>\n",
       "      <td>all-access</td>\n",
       "      <td>all-agents</td>\n",
       "    </tr>\n",
       "    <tr>\n",
       "      <th>freq</th>\n",
       "      <td>24108</td>\n",
       "      <td>74315</td>\n",
       "      <td>110150</td>\n",
       "    </tr>\n",
       "  </tbody>\n",
       "</table>\n",
       "</div>"
      ],
      "text/plain": [
       "                 project      access       agent\n",
       "count             145063      145063      145063\n",
       "unique                 9           3           2\n",
       "top     en.wikipedia.org  all-access  all-agents\n",
       "freq               24108       74315      110150"
      ]
     },
     "execution_count": 6,
     "metadata": {},
     "output_type": "execute_result"
    }
   ],
   "source": [
    "page_details = pd.DataFrame([i.split(\"_\")[-3:] for i in train_df[\"Page\"]])\n",
    "page_details.columns = [\"project\", \"access\", \"agent\"]\n",
    "page_details.describe()"
   ]
  },
  {
   "cell_type": "code",
   "execution_count": null,
   "metadata": {
    "collapsed": true
   },
   "outputs": [],
   "source": []
  }
 ],
 "metadata": {
  "kernelspec": {
   "display_name": "Python 3",
   "language": "python",
   "name": "python3"
  },
  "language_info": {
   "codemirror_mode": {
    "name": "ipython",
    "version": 3
   },
   "file_extension": ".py",
   "mimetype": "text/x-python",
   "name": "python",
   "nbconvert_exporter": "python",
   "pygments_lexer": "ipython3",
   "version": "3.5.3"
  }
 },
 "nbformat": 4,
 "nbformat_minor": 2
}
